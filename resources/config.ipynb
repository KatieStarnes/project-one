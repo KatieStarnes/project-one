{
 "cells": [
  {
   "cell_type": "code",
   "execution_count": null,
   "id": "8c5dd3d1",
   "metadata": {},
   "outputs": [],
   "source": [
    "api_key = \"aa147ce9420940fbb65ca68a76dacbae\""
   ]
  }
 ],
 "metadata": {
  "kernelspec": {
   "display_name": "Python 3 (ipykernel)",
   "language": "python",
   "name": "python3"
  },
  "language_info": {
   "codemirror_mode": {
    "name": "ipython",
    "version": 3
   },
   "file_extension": ".py",
   "mimetype": "text/x-python",
   "name": "python",
   "nbconvert_exporter": "python",
   "pygments_lexer": "ipython3",
   "version": "3.10.13"
  }
 },
 "nbformat": 4,
 "nbformat_minor": 5
}
