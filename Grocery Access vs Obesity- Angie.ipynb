{
 "cells": [
  {
   "cell_type": "code",
   "execution_count": null,
   "id": "12563689",
   "metadata": {},
   "outputs": [],
   "source": [
    "# import all dependencies\n",
    "import pandas as pd\n",
    "\n",
    "# store and import any api keys needed\n"
   ]
  },
  {
   "cell_type": "code",
   "execution_count": null,
   "id": "d3a40686",
   "metadata": {},
   "outputs": [],
   "source": []
  },
  {
   "cell_type": "code",
   "execution_count": null,
   "id": "6d7b6694",
   "metadata": {},
   "outputs": [],
   "source": [
    "# pull census data: income, zip code\n",
    "# I may not need this for my part of the project"
   ]
  },
  {
   "cell_type": "code",
   "execution_count": null,
   "id": "76f301cf",
   "metadata": {},
   "outputs": [],
   "source": []
  },
  {
   "cell_type": "code",
   "execution_count": null,
   "id": "ac884d25",
   "metadata": {},
   "outputs": [],
   "source": [
    "# pull grocery store data, zip code"
   ]
  },
  {
   "cell_type": "code",
   "execution_count": null,
   "id": "aeabc034",
   "metadata": {},
   "outputs": [],
   "source": []
  },
  {
   "cell_type": "code",
   "execution_count": null,
   "id": "fc22da5b",
   "metadata": {},
   "outputs": [],
   "source": [
    "# pull diabetes data, zip code?"
   ]
  },
  {
   "cell_type": "code",
   "execution_count": null,
   "id": "e96965ca",
   "metadata": {},
   "outputs": [],
   "source": []
  },
  {
   "cell_type": "code",
   "execution_count": null,
   "id": "25ad73b7",
   "metadata": {},
   "outputs": [],
   "source": [
    "# pull obesity data, zip code?"
   ]
  },
  {
   "cell_type": "code",
   "execution_count": null,
   "id": "a9eeb1af",
   "metadata": {},
   "outputs": [],
   "source": []
  },
  {
   "cell_type": "code",
   "execution_count": null,
   "id": "bb98d331",
   "metadata": {},
   "outputs": [],
   "source": [
    "# create dataframe(s) (and merge if needed)"
   ]
  },
  {
   "cell_type": "code",
   "execution_count": null,
   "id": "ee113c98",
   "metadata": {},
   "outputs": [],
   "source": []
  },
  {
   "cell_type": "code",
   "execution_count": null,
   "id": "53f6a1b1",
   "metadata": {},
   "outputs": [],
   "source": [
    "# scatter plots and linear regressions\n",
    "# grocery store count vs diabetes (by zip code?)\n",
    "# grocery store count vs obesity (by zip code?)\n"
   ]
  },
  {
   "cell_type": "code",
   "execution_count": null,
   "id": "1b8be833",
   "metadata": {},
   "outputs": [],
   "source": []
  },
  {
   "cell_type": "code",
   "execution_count": null,
   "id": "f263ee92",
   "metadata": {},
   "outputs": [],
   "source": [
    "# map of grocery stores- make dot the count per zip code? scale by count"
   ]
  },
  {
   "cell_type": "code",
   "execution_count": null,
   "id": "6686f72e",
   "metadata": {},
   "outputs": [],
   "source": [
    "# map of obesity and/or diabetes- scale by rate"
   ]
  },
  {
   "cell_type": "code",
   "execution_count": null,
   "id": "dec86264",
   "metadata": {},
   "outputs": [],
   "source": [
    "# combined map? is there a way to do an overlay? or hover data?"
   ]
  },
  {
   "cell_type": "code",
   "execution_count": null,
   "id": "166915f9",
   "metadata": {},
   "outputs": [],
   "source": []
  }
 ],
 "metadata": {
  "kernelspec": {
   "display_name": "Python 3 (ipykernel)",
   "language": "python",
   "name": "python3"
  },
  "language_info": {
   "codemirror_mode": {
    "name": "ipython",
    "version": 3
   },
   "file_extension": ".py",
   "mimetype": "text/x-python",
   "name": "python",
   "nbconvert_exporter": "python",
   "pygments_lexer": "ipython3",
   "version": "3.10.13"
  }
 },
 "nbformat": 4,
 "nbformat_minor": 5
}
